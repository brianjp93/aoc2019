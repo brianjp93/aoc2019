{
 "cells": [
  {
   "cell_type": "code",
   "execution_count": 1,
   "metadata": {},
   "outputs": [],
   "source": [
    "text_data = '''120847\n",
    "60347\n",
    "63340\n",
    "72773\n",
    "57020\n",
    "133960\n",
    "98163\n",
    "121548\n",
    "87233\n",
    "59150\n",
    "59712\n",
    "146816\n",
    "93205\n",
    "61936\n",
    "75319\n",
    "141998\n",
    "97125\n",
    "73450\n",
    "106250\n",
    "129939\n",
    "94854\n",
    "113782\n",
    "112044\n",
    "127923\n",
    "67114\n",
    "119770\n",
    "130034\n",
    "70876\n",
    "82204\n",
    "101939\n",
    "132604\n",
    "142836\n",
    "117066\n",
    "95861\n",
    "75597\n",
    "94630\n",
    "50085\n",
    "101107\n",
    "77937\n",
    "94286\n",
    "74091\n",
    "140875\n",
    "118543\n",
    "52767\n",
    "54544\n",
    "93062\n",
    "115681\n",
    "142065\n",
    "111737\n",
    "131214\n",
    "75160\n",
    "115432\n",
    "140504\n",
    "115376\n",
    "86589\n",
    "104631\n",
    "133012\n",
    "108690\n",
    "85993\n",
    "99533\n",
    "133725\n",
    "87698\n",
    "133480\n",
    "68379\n",
    "107852\n",
    "111209\n",
    "116623\n",
    "98717\n",
    "130227\n",
    "114356\n",
    "144516\n",
    "89663\n",
    "118355\n",
    "77816\n",
    "149914\n",
    "105080\n",
    "116793\n",
    "65259\n",
    "143900\n",
    "67838\n",
    "148389\n",
    "129753\n",
    "140524\n",
    "90005\n",
    "147305\n",
    "118428\n",
    "79940\n",
    "59110\n",
    "78120\n",
    "87066\n",
    "64722\n",
    "142066\n",
    "81410\n",
    "106958\n",
    "92984\n",
    "95584\n",
    "108534\n",
    "66362\n",
    "126340\n",
    "143660'''"
   ]
  },
  {
   "cell_type": "code",
   "execution_count": 4,
   "metadata": {},
   "outputs": [],
   "source": [
    "data = [int(x) for x in text_data.split('\\n')]"
   ]
  },
  {
   "cell_type": "code",
   "execution_count": 5,
   "metadata": {
    "scrolled": true
   },
   "outputs": [
    {
     "data": {
      "text/plain": [
       "[120847,\n",
       " 60347,\n",
       " 63340,\n",
       " 72773,\n",
       " 57020,\n",
       " 133960,\n",
       " 98163,\n",
       " 121548,\n",
       " 87233,\n",
       " 59150,\n",
       " 59712,\n",
       " 146816,\n",
       " 93205,\n",
       " 61936,\n",
       " 75319,\n",
       " 141998,\n",
       " 97125,\n",
       " 73450,\n",
       " 106250,\n",
       " 129939,\n",
       " 94854,\n",
       " 113782,\n",
       " 112044,\n",
       " 127923,\n",
       " 67114,\n",
       " 119770,\n",
       " 130034,\n",
       " 70876,\n",
       " 82204,\n",
       " 101939,\n",
       " 132604,\n",
       " 142836,\n",
       " 117066,\n",
       " 95861,\n",
       " 75597,\n",
       " 94630,\n",
       " 50085,\n",
       " 101107,\n",
       " 77937,\n",
       " 94286,\n",
       " 74091,\n",
       " 140875,\n",
       " 118543,\n",
       " 52767,\n",
       " 54544,\n",
       " 93062,\n",
       " 115681,\n",
       " 142065,\n",
       " 111737,\n",
       " 131214,\n",
       " 75160,\n",
       " 115432,\n",
       " 140504,\n",
       " 115376,\n",
       " 86589,\n",
       " 104631,\n",
       " 133012,\n",
       " 108690,\n",
       " 85993,\n",
       " 99533,\n",
       " 133725,\n",
       " 87698,\n",
       " 133480,\n",
       " 68379,\n",
       " 107852,\n",
       " 111209,\n",
       " 116623,\n",
       " 98717,\n",
       " 130227,\n",
       " 114356,\n",
       " 144516,\n",
       " 89663,\n",
       " 118355,\n",
       " 77816,\n",
       " 149914,\n",
       " 105080,\n",
       " 116793,\n",
       " 65259,\n",
       " 143900,\n",
       " 67838,\n",
       " 148389,\n",
       " 129753,\n",
       " 140524,\n",
       " 90005,\n",
       " 147305,\n",
       " 118428,\n",
       " 79940,\n",
       " 59110,\n",
       " 78120,\n",
       " 87066,\n",
       " 64722,\n",
       " 142066,\n",
       " 81410,\n",
       " 106958,\n",
       " 92984,\n",
       " 95584,\n",
       " 108534,\n",
       " 66362,\n",
       " 126340,\n",
       " 143660]"
      ]
     },
     "execution_count": 5,
     "metadata": {},
     "output_type": "execute_result"
    }
   ],
   "source": [
    "data"
   ]
  },
  {
   "cell_type": "code",
   "execution_count": 6,
   "metadata": {},
   "outputs": [],
   "source": [
    "def compute_fuel(mass):\n",
    "    return (mass // 3) - 2"
   ]
  },
  {
   "cell_type": "code",
   "execution_count": 9,
   "metadata": {},
   "outputs": [],
   "source": [
    "fuel = sum(compute_fuel(mass) for mass in data)"
   ]
  },
  {
   "cell_type": "code",
   "execution_count": 10,
   "metadata": {},
   "outputs": [
    {
     "data": {
      "text/plain": [
       "3416712"
      ]
     },
     "execution_count": 10,
     "metadata": {},
     "output_type": "execute_result"
    }
   ],
   "source": [
    "fuel"
   ]
  },
  {
   "cell_type": "code",
   "execution_count": 24,
   "metadata": {},
   "outputs": [],
   "source": [
    "def extended_compute(mass):\n",
    "    fuel = compute_fuel(mass)\n",
    "    total = 0\n",
    "    while fuel > 0:\n",
    "        total += fuel\n",
    "        fuel = (fuel // 3) - 2\n",
    "    return total"
   ]
  },
  {
   "cell_type": "code",
   "execution_count": 25,
   "metadata": {},
   "outputs": [],
   "source": [
    "fuel = sum(extended_compute(mass) for mass in data)"
   ]
  },
  {
   "cell_type": "code",
   "execution_count": 26,
   "metadata": {},
   "outputs": [
    {
     "data": {
      "text/plain": [
       "5122170"
      ]
     },
     "execution_count": 26,
     "metadata": {},
     "output_type": "execute_result"
    }
   ],
   "source": [
    "fuel"
   ]
  },
  {
   "cell_type": "code",
   "execution_count": null,
   "metadata": {},
   "outputs": [],
   "source": []
  }
 ],
 "metadata": {
  "kernelspec": {
   "display_name": "Python 3",
   "language": "python",
   "name": "python3"
  },
  "language_info": {
   "codemirror_mode": {
    "name": "ipython",
    "version": 3
   },
   "file_extension": ".py",
   "mimetype": "text/x-python",
   "name": "python",
   "nbconvert_exporter": "python",
   "pygments_lexer": "ipython3",
   "version": "3.6.4"
  }
 },
 "nbformat": 4,
 "nbformat_minor": 2
}
